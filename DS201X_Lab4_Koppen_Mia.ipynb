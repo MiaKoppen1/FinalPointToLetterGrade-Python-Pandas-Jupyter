{
 "cells": [
  {
   "cell_type": "code",
   "execution_count": null,
   "metadata": {},
   "outputs": [],
   "source": [
    "def ShowFinalGrade(Student): #created a function that shows the final grade with the student's name.\n",
    "    print(Student + \"'s\" + \" \" + \"Final Grade is:\") \n",
    "\n",
    "while True: #flag variable.\n",
    "    FinalGrade = input('What is Your Final Point?:') #gets student's grade from the user.\n",
    "    Student = input('student name:') #gets student's name from the user.\n",
    "    \n",
    "    FinalGradePoint = float(FinalGrade) #converting the string to a float variable. \n",
    "\n",
    "    ShowFinalGrade(Student) #calls the function.\n",
    "\n",
    "    while FinalGradePoint: #while getting the final grade point...\n",
    "        if FinalGradePoint == 100 or FinalGradePoint >= 92.5: #if the student's grade is 100, 92.5, or greater than 92.5 it is an A. \n",
    "            print(\"A!\" + \" \" + \"Good Job!\")\n",
    "            break #stops executing the program here.\n",
    "        elif FinalGradePoint <= 92.4 and FinalGradePoint >= 82.5: #if the student's grade is 82.5 to 92.4 it is an B. \n",
    "            print(\"B\")\n",
    "            break #stops executing the program here.\n",
    "        elif FinalGradePoint <= 82.4 and FinalGradePoint >= 72.5: #if the student's grade is 72.5 to 82.4 it is an C. \n",
    "            print(\"C\")\n",
    "            break #stops executing the program here.\n",
    "        elif FinalGradePoint <= 72.4 and FinalGradePoint >= 62.5: #if the student's grade is 62.5 to 72.4 it is an D. \n",
    "            print(\"D\")\n",
    "            break #stops executing the program here.\n",
    "        elif FinalGradePoint == 0 or FinalGradePoint <= 62.4: #if the student's grade is 0 to 62.4 it is an F. \n",
    "            print(\"F!\" + \" \" + \"Sorry, You Fail!\")\n",
    "            break #stops executing the program here.\n",
    "\n",
    "    Answer = input(\"Do you have more students' final points? (yes/no): \") #asking the user if there are more student grades to add.\n",
    "    if Answer.lower () not in [\"yes\", \"Yes\", \"Y\", \"y\", \"i do\"]: #if the user's answer to the prompt is not one of these, the program stops executing.\n",
    "        break\n",
    "    "
   ]
  },
  {
   "cell_type": "code",
   "execution_count": null,
   "metadata": {},
   "outputs": [],
   "source": [
    "#adding even numbers up to n.\n",
    "n = 10 \n",
    "i = 0 #initializing the value of i.\n",
    "while i < n: #while the number i is less than 10...\n",
    "    i = i + 2 #starts at 0, adds two each time.\n",
    "    print(i)\n",
    "\n",
    "print(\" \")\n",
    "\n",
    "#or\n",
    "\n",
    "m = 10\n",
    "j = 0\n",
    "for num in range(m):\n",
    "    if num%2 == 0:\n",
    "        j+= num\n",
    "        print(num)\n",
    "print(f\"the sum of even number between 0 and {m} is {j}\")"
   ]
  },
  {
   "cell_type": "code",
   "execution_count": null,
   "metadata": {},
   "outputs": [],
   "source": [
    "#getting a list of odd numbers and then reversing it.\n",
    "n = [] #initialized an empty list.\n",
    "m = 25 #set the range for the list to 25.\n",
    "\n",
    "for i in range(m): #between 0 and 25...\n",
    "    if num%2 != 0: #if the number is not even..\n",
    "        n.append(i) #adds an odd number to the list in each iteration\n",
    "n.reverse() #reverses the order of the list.\n",
    "print(n) #prints the list out to the screen in reverse."
   ]
  }
 ],
 "metadata": {
  "kernelspec": {
   "display_name": "base",
   "language": "python",
   "name": "python3"
  },
  "language_info": {
   "codemirror_mode": {
    "name": "ipython",
    "version": 3
   },
   "file_extension": ".py",
   "mimetype": "text/x-python",
   "name": "python",
   "nbconvert_exporter": "python",
   "pygments_lexer": "ipython3",
   "version": "3.11.7"
  }
 },
 "nbformat": 4,
 "nbformat_minor": 2
}
